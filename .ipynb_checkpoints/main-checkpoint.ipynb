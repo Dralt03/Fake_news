{
 "cells": [
  {
   "cell_type": "markdown",
   "id": "f4c13258",
   "metadata": {},
   "source": [
    "# Fake News Detection\n",
    "\n",
    "The main porpose of this model is to use NLP and Machine learning to classify the differrence between fake news and real news. There has been a lot of people that spread fake news in social media and this model is a means to help people know what is real and what is fake."
   ]
  },
  {
   "cell_type": "markdown",
   "id": "fb08ffa8",
   "metadata": {},
   "source": [
    "### Importing libraries"
   ]
  },
  {
   "cell_type": "code",
   "execution_count": 1,
   "id": "88c15ea3",
   "metadata": {},
   "outputs": [],
   "source": [
    "import pandas as pd\n",
    "import re\n",
    "import string\n",
    "import numpy as np\n",
    "\n",
    "import nltk\n",
    "from nltk.corpus import stopwords\n",
    "from nltk.stem.porter import PorterStemmer\n",
    "\n",
    "from sklearn.feature_extraction.text import CountVectorizer, TfidfVectorizer\n",
    "from sklearn.model_selection import train_test_split\n",
    "from sklearn.linear_model import LogisticRegression, PassiveAggressiveClassifier\n",
    "from sklearn.metrics import accuracy_score, confusion_matrix"
   ]
  },
  {
   "cell_type": "code",
   "execution_count": 2,
   "id": "9135e2f3",
   "metadata": {},
   "outputs": [],
   "source": [
    "df_raw_true = pd.read_csv(r\".\\database\\True.csv\", encoding = 'utf-8')"
   ]
  },
  {
   "cell_type": "code",
   "execution_count": 3,
   "id": "212fe336",
   "metadata": {},
   "outputs": [
    {
     "data": {
      "text/html": [
       "<div>\n",
       "<style scoped>\n",
       "    .dataframe tbody tr th:only-of-type {\n",
       "        vertical-align: middle;\n",
       "    }\n",
       "\n",
       "    .dataframe tbody tr th {\n",
       "        vertical-align: top;\n",
       "    }\n",
       "\n",
       "    .dataframe thead th {\n",
       "        text-align: right;\n",
       "    }\n",
       "</style>\n",
       "<table border=\"1\" class=\"dataframe\">\n",
       "  <thead>\n",
       "    <tr style=\"text-align: right;\">\n",
       "      <th></th>\n",
       "      <th>title</th>\n",
       "      <th>text</th>\n",
       "      <th>subject</th>\n",
       "      <th>date</th>\n",
       "    </tr>\n",
       "  </thead>\n",
       "  <tbody>\n",
       "    <tr>\n",
       "      <th>0</th>\n",
       "      <td>As U.S. budget fight looms, Republicans flip t...</td>\n",
       "      <td>WASHINGTON (Reuters) - The head of a conservat...</td>\n",
       "      <td>politicsNews</td>\n",
       "      <td>December 31, 2017</td>\n",
       "    </tr>\n",
       "    <tr>\n",
       "      <th>1</th>\n",
       "      <td>U.S. military to accept transgender recruits o...</td>\n",
       "      <td>WASHINGTON (Reuters) - Transgender people will...</td>\n",
       "      <td>politicsNews</td>\n",
       "      <td>December 29, 2017</td>\n",
       "    </tr>\n",
       "    <tr>\n",
       "      <th>2</th>\n",
       "      <td>Senior U.S. Republican senator: 'Let Mr. Muell...</td>\n",
       "      <td>WASHINGTON (Reuters) - The special counsel inv...</td>\n",
       "      <td>politicsNews</td>\n",
       "      <td>December 31, 2017</td>\n",
       "    </tr>\n",
       "    <tr>\n",
       "      <th>3</th>\n",
       "      <td>FBI Russia probe helped by Australian diplomat...</td>\n",
       "      <td>WASHINGTON (Reuters) - Trump campaign adviser ...</td>\n",
       "      <td>politicsNews</td>\n",
       "      <td>December 30, 2017</td>\n",
       "    </tr>\n",
       "    <tr>\n",
       "      <th>4</th>\n",
       "      <td>Trump wants Postal Service to charge 'much mor...</td>\n",
       "      <td>SEATTLE/WASHINGTON (Reuters) - President Donal...</td>\n",
       "      <td>politicsNews</td>\n",
       "      <td>December 29, 2017</td>\n",
       "    </tr>\n",
       "  </tbody>\n",
       "</table>\n",
       "</div>"
      ],
      "text/plain": [
       "                                               title  \\\n",
       "0  As U.S. budget fight looms, Republicans flip t...   \n",
       "1  U.S. military to accept transgender recruits o...   \n",
       "2  Senior U.S. Republican senator: 'Let Mr. Muell...   \n",
       "3  FBI Russia probe helped by Australian diplomat...   \n",
       "4  Trump wants Postal Service to charge 'much mor...   \n",
       "\n",
       "                                                text       subject  \\\n",
       "0  WASHINGTON (Reuters) - The head of a conservat...  politicsNews   \n",
       "1  WASHINGTON (Reuters) - Transgender people will...  politicsNews   \n",
       "2  WASHINGTON (Reuters) - The special counsel inv...  politicsNews   \n",
       "3  WASHINGTON (Reuters) - Trump campaign adviser ...  politicsNews   \n",
       "4  SEATTLE/WASHINGTON (Reuters) - President Donal...  politicsNews   \n",
       "\n",
       "                 date  \n",
       "0  December 31, 2017   \n",
       "1  December 29, 2017   \n",
       "2  December 31, 2017   \n",
       "3  December 30, 2017   \n",
       "4  December 29, 2017   "
      ]
     },
     "execution_count": 3,
     "metadata": {},
     "output_type": "execute_result"
    }
   ],
   "source": [
    "df_raw_true.head(5)"
   ]
  },
  {
   "cell_type": "code",
   "execution_count": 4,
   "id": "9714fc33",
   "metadata": {},
   "outputs": [],
   "source": [
    "df_raw_fake = pd.read_csv(r\".\\database\\Fake.csv\", encoding = 'utf-8')"
   ]
  },
  {
   "cell_type": "code",
   "execution_count": 5,
   "id": "3f8200f2",
   "metadata": {},
   "outputs": [
    {
     "data": {
      "text/html": [
       "<div>\n",
       "<style scoped>\n",
       "    .dataframe tbody tr th:only-of-type {\n",
       "        vertical-align: middle;\n",
       "    }\n",
       "\n",
       "    .dataframe tbody tr th {\n",
       "        vertical-align: top;\n",
       "    }\n",
       "\n",
       "    .dataframe thead th {\n",
       "        text-align: right;\n",
       "    }\n",
       "</style>\n",
       "<table border=\"1\" class=\"dataframe\">\n",
       "  <thead>\n",
       "    <tr style=\"text-align: right;\">\n",
       "      <th></th>\n",
       "      <th>title</th>\n",
       "      <th>text</th>\n",
       "      <th>subject</th>\n",
       "      <th>date</th>\n",
       "    </tr>\n",
       "  </thead>\n",
       "  <tbody>\n",
       "    <tr>\n",
       "      <th>0</th>\n",
       "      <td>Donald Trump Sends Out Embarrassing New Year’...</td>\n",
       "      <td>Donald Trump just couldn t wish all Americans ...</td>\n",
       "      <td>News</td>\n",
       "      <td>December 31, 2017</td>\n",
       "    </tr>\n",
       "    <tr>\n",
       "      <th>1</th>\n",
       "      <td>Drunk Bragging Trump Staffer Started Russian ...</td>\n",
       "      <td>House Intelligence Committee Chairman Devin Nu...</td>\n",
       "      <td>News</td>\n",
       "      <td>December 31, 2017</td>\n",
       "    </tr>\n",
       "    <tr>\n",
       "      <th>2</th>\n",
       "      <td>Sheriff David Clarke Becomes An Internet Joke...</td>\n",
       "      <td>On Friday, it was revealed that former Milwauk...</td>\n",
       "      <td>News</td>\n",
       "      <td>December 30, 2017</td>\n",
       "    </tr>\n",
       "    <tr>\n",
       "      <th>3</th>\n",
       "      <td>Trump Is So Obsessed He Even Has Obama’s Name...</td>\n",
       "      <td>On Christmas day, Donald Trump announced that ...</td>\n",
       "      <td>News</td>\n",
       "      <td>December 29, 2017</td>\n",
       "    </tr>\n",
       "    <tr>\n",
       "      <th>4</th>\n",
       "      <td>Pope Francis Just Called Out Donald Trump Dur...</td>\n",
       "      <td>Pope Francis used his annual Christmas Day mes...</td>\n",
       "      <td>News</td>\n",
       "      <td>December 25, 2017</td>\n",
       "    </tr>\n",
       "  </tbody>\n",
       "</table>\n",
       "</div>"
      ],
      "text/plain": [
       "                                               title  \\\n",
       "0   Donald Trump Sends Out Embarrassing New Year’...   \n",
       "1   Drunk Bragging Trump Staffer Started Russian ...   \n",
       "2   Sheriff David Clarke Becomes An Internet Joke...   \n",
       "3   Trump Is So Obsessed He Even Has Obama’s Name...   \n",
       "4   Pope Francis Just Called Out Donald Trump Dur...   \n",
       "\n",
       "                                                text subject  \\\n",
       "0  Donald Trump just couldn t wish all Americans ...    News   \n",
       "1  House Intelligence Committee Chairman Devin Nu...    News   \n",
       "2  On Friday, it was revealed that former Milwauk...    News   \n",
       "3  On Christmas day, Donald Trump announced that ...    News   \n",
       "4  Pope Francis used his annual Christmas Day mes...    News   \n",
       "\n",
       "                date  \n",
       "0  December 31, 2017  \n",
       "1  December 31, 2017  \n",
       "2  December 30, 2017  \n",
       "3  December 29, 2017  \n",
       "4  December 25, 2017  "
      ]
     },
     "execution_count": 5,
     "metadata": {},
     "output_type": "execute_result"
    }
   ],
   "source": [
    "df_raw_fake.head(5)"
   ]
  },
  {
   "cell_type": "code",
   "execution_count": 6,
   "id": "99ab27a6",
   "metadata": {},
   "outputs": [],
   "source": [
    "df_raw_true['label'] = 1                            #1 for real news"
   ]
  },
  {
   "cell_type": "code",
   "execution_count": 7,
   "id": "ab7f6929",
   "metadata": {},
   "outputs": [],
   "source": [
    "df_raw_fake['label'] = 0                             #0 for fake news "
   ]
  },
  {
   "cell_type": "code",
   "execution_count": 8,
   "id": "70c3b201",
   "metadata": {},
   "outputs": [],
   "source": [
    "df_true = df_raw_true[['text', 'label']]"
   ]
  },
  {
   "cell_type": "code",
   "execution_count": 9,
   "id": "ebb0a97d",
   "metadata": {},
   "outputs": [],
   "source": [
    "df_fake = df_raw_fake[['text', 'label']]"
   ]
  },
  {
   "cell_type": "code",
   "execution_count": 10,
   "id": "64972c01",
   "metadata": {},
   "outputs": [],
   "source": [
    "df = pd.concat([df_true, df_fake])                #merges both the dataframes"
   ]
  },
  {
   "cell_type": "code",
   "execution_count": 11,
   "id": "89e68784",
   "metadata": {},
   "outputs": [
    {
     "data": {
      "text/html": [
       "<div>\n",
       "<style scoped>\n",
       "    .dataframe tbody tr th:only-of-type {\n",
       "        vertical-align: middle;\n",
       "    }\n",
       "\n",
       "    .dataframe tbody tr th {\n",
       "        vertical-align: top;\n",
       "    }\n",
       "\n",
       "    .dataframe thead th {\n",
       "        text-align: right;\n",
       "    }\n",
       "</style>\n",
       "<table border=\"1\" class=\"dataframe\">\n",
       "  <thead>\n",
       "    <tr style=\"text-align: right;\">\n",
       "      <th></th>\n",
       "      <th>text</th>\n",
       "      <th>label</th>\n",
       "    </tr>\n",
       "  </thead>\n",
       "  <tbody>\n",
       "    <tr>\n",
       "      <th>12856</th>\n",
       "      <td>HARARE (Reuters) - A white Zimbabwean farmer k...</td>\n",
       "      <td>1</td>\n",
       "    </tr>\n",
       "    <tr>\n",
       "      <th>20616</th>\n",
       "      <td>DHAKA (Reuters) - Bangladesh has proposed crea...</td>\n",
       "      <td>1</td>\n",
       "    </tr>\n",
       "    <tr>\n",
       "      <th>760</th>\n",
       "      <td>WASHINGTON (Reuters) - Members of U.S. congres...</td>\n",
       "      <td>1</td>\n",
       "    </tr>\n",
       "    <tr>\n",
       "      <th>7866</th>\n",
       "      <td>PARIS (Reuters) - Europe should challenge the ...</td>\n",
       "      <td>1</td>\n",
       "    </tr>\n",
       "    <tr>\n",
       "      <th>14217</th>\n",
       "      <td>MOSCOW/KIEV (Reuters) - Armed men in masks blo...</td>\n",
       "      <td>1</td>\n",
       "    </tr>\n",
       "  </tbody>\n",
       "</table>\n",
       "</div>"
      ],
      "text/plain": [
       "                                                    text  label\n",
       "12856  HARARE (Reuters) - A white Zimbabwean farmer k...      1\n",
       "20616  DHAKA (Reuters) - Bangladesh has proposed crea...      1\n",
       "760    WASHINGTON (Reuters) - Members of U.S. congres...      1\n",
       "7866   PARIS (Reuters) - Europe should challenge the ...      1\n",
       "14217  MOSCOW/KIEV (Reuters) - Armed men in masks blo...      1"
      ]
     },
     "execution_count": 11,
     "metadata": {},
     "output_type": "execute_result"
    }
   ],
   "source": [
    "df.sample(5)"
   ]
  },
  {
   "cell_type": "code",
   "execution_count": 12,
   "id": "830036ac",
   "metadata": {},
   "outputs": [
    {
     "data": {
      "text/plain": [
       "(44898, 2)"
      ]
     },
     "execution_count": 12,
     "metadata": {},
     "output_type": "execute_result"
    }
   ],
   "source": [
    "df.shape"
   ]
  },
  {
   "cell_type": "markdown",
   "id": "c543c256",
   "metadata": {},
   "source": [
    "### Cleaning database"
   ]
  },
  {
   "cell_type": "code",
   "execution_count": 13,
   "id": "b0be130f",
   "metadata": {},
   "outputs": [],
   "source": [
    "df['text'] = df['text'].str.lower()     #Changing every character to lower case "
   ]
  },
  {
   "cell_type": "code",
   "execution_count": 14,
   "id": "4cf7cedb",
   "metadata": {},
   "outputs": [],
   "source": [
    "#Makes a dictionary containing all punctuations with value 0\n",
    "punct_dict = dict((ord(punct), None) for punct in string.punctuation)\n",
    "\n",
    "for punc in punct_dict:\n",
    "    df['text'] = df['text'].replace(punc, ' ')    "
   ]
  },
  {
   "cell_type": "code",
   "execution_count": 15,
   "id": "ea99241e",
   "metadata": {},
   "outputs": [
    {
     "data": {
      "text/html": [
       "<div>\n",
       "<style scoped>\n",
       "    .dataframe tbody tr th:only-of-type {\n",
       "        vertical-align: middle;\n",
       "    }\n",
       "\n",
       "    .dataframe tbody tr th {\n",
       "        vertical-align: top;\n",
       "    }\n",
       "\n",
       "    .dataframe thead th {\n",
       "        text-align: right;\n",
       "    }\n",
       "</style>\n",
       "<table border=\"1\" class=\"dataframe\">\n",
       "  <thead>\n",
       "    <tr style=\"text-align: right;\">\n",
       "      <th></th>\n",
       "      <th>text</th>\n",
       "      <th>label</th>\n",
       "    </tr>\n",
       "  </thead>\n",
       "  <tbody>\n",
       "    <tr>\n",
       "      <th>16937</th>\n",
       "      <td>beijing (reuters) - chinese officials on thurs...</td>\n",
       "      <td>1</td>\n",
       "    </tr>\n",
       "    <tr>\n",
       "      <th>9147</th>\n",
       "      <td>washington (reuters) - donald trump on monday ...</td>\n",
       "      <td>1</td>\n",
       "    </tr>\n",
       "    <tr>\n",
       "      <th>6573</th>\n",
       "      <td>(this dec. 27 story corrects to say 55,000 pa...</td>\n",
       "      <td>1</td>\n",
       "    </tr>\n",
       "    <tr>\n",
       "      <th>942</th>\n",
       "      <td>washington (reuters) - senate republican leade...</td>\n",
       "      <td>1</td>\n",
       "    </tr>\n",
       "    <tr>\n",
       "      <th>18772</th>\n",
       "      <td>washington (reuters) - two u.s. air strikes ki...</td>\n",
       "      <td>1</td>\n",
       "    </tr>\n",
       "  </tbody>\n",
       "</table>\n",
       "</div>"
      ],
      "text/plain": [
       "                                                    text  label\n",
       "16937  beijing (reuters) - chinese officials on thurs...      1\n",
       "9147   washington (reuters) - donald trump on monday ...      1\n",
       "6573    (this dec. 27 story corrects to say 55,000 pa...      1\n",
       "942    washington (reuters) - senate republican leade...      1\n",
       "18772  washington (reuters) - two u.s. air strikes ki...      1"
      ]
     },
     "execution_count": 15,
     "metadata": {},
     "output_type": "execute_result"
    }
   ],
   "source": [
    "df.sample(5)"
   ]
  },
  {
   "cell_type": "code",
   "execution_count": 16,
   "id": "556a4eb2",
   "metadata": {},
   "outputs": [],
   "source": [
    "def extract_words(sentence):\n",
    "    ignore_words = ['a', 'the', 'if', 'br', 'and', 'of', 'to', 'is']\n",
    "    words = re.sub(\"[^\\w]\", \" \",  sentence).split()\n",
    "    \n",
    "    words_cleaned = [w.lower() for w in words if w not in ignore_words]\n",
    "    return words_cleaned \n"
   ]
  },
  {
   "cell_type": "markdown",
   "id": "50e2177f",
   "metadata": {},
   "source": [
    "## Training Model"
   ]
  },
  {
   "cell_type": "code",
   "execution_count": 17,
   "id": "973cb185",
   "metadata": {},
   "outputs": [],
   "source": [
    "x = df['text']\n",
    "y = df['label']"
   ]
  },
  {
   "cell_type": "code",
   "execution_count": 18,
   "id": "70efea12",
   "metadata": {},
   "outputs": [],
   "source": [
    "x_train, x_test, y_train, y_test = train_test_split(x, y, shuffle = True)         #Splitting the data"
   ]
  },
  {
   "cell_type": "code",
   "execution_count": 19,
   "id": "40affad3",
   "metadata": {},
   "outputs": [],
   "source": [
    "vec = TfidfVectorizer(stop_words = 'english')"
   ]
  },
  {
   "cell_type": "code",
   "execution_count": 20,
   "id": "9ebca0ba",
   "metadata": {},
   "outputs": [],
   "source": [
    "xv_train = vec.fit_transform(x_train)\n",
    "xv_test = vec.transform(x_test)"
   ]
  },
  {
   "cell_type": "code",
   "execution_count": 21,
   "id": "7b61fefc",
   "metadata": {},
   "outputs": [
    {
     "data": {
      "text/plain": [
       "LogisticRegression()"
      ]
     },
     "execution_count": 21,
     "metadata": {},
     "output_type": "execute_result"
    }
   ],
   "source": [
    "logreg = LogisticRegression()\n",
    "logreg.fit(xv_train, y_train)"
   ]
  },
  {
   "cell_type": "code",
   "execution_count": 22,
   "id": "2c9aa6c3",
   "metadata": {},
   "outputs": [],
   "source": [
    "y_pred = logreg.predict(xv_test)"
   ]
  },
  {
   "cell_type": "code",
   "execution_count": 23,
   "id": "fbd5c6c8",
   "metadata": {},
   "outputs": [
    {
     "name": "stdout",
     "output_type": "stream",
     "text": [
      "Accuracy Score: 0.9869042316258352\n"
     ]
    }
   ],
   "source": [
    "score = accuracy_score(y_pred, y_test)\n",
    "print(f'Accuracy Score: {score}')"
   ]
  },
  {
   "cell_type": "code",
   "execution_count": 24,
   "id": "bd2b24ee",
   "metadata": {},
   "outputs": [
    {
     "data": {
      "text/plain": [
       "array([[5704,   82],\n",
       "       [  65, 5374]], dtype=int64)"
      ]
     },
     "execution_count": 24,
     "metadata": {},
     "output_type": "execute_result"
    }
   ],
   "source": [
    "confusion_matrix(y_test, y_pred)"
   ]
  },
  {
   "cell_type": "code",
   "execution_count": 25,
   "id": "7a58edcd",
   "metadata": {},
   "outputs": [],
   "source": [
    "def news_predictor(news):\n",
    "    vec_news = vec.transform([news])\n",
    "    \n",
    "    pred = logreg.predict(vec_news)\n",
    "    label = {1:'Real', 0:'Fake'}\n",
    "    return label[int(pred)]"
   ]
  },
  {
   "cell_type": "code",
   "execution_count": 26,
   "id": "e4fcad88",
   "metadata": {},
   "outputs": [
    {
     "data": {
      "text/plain": [
       "'Real'"
      ]
     },
     "execution_count": 26,
     "metadata": {},
     "output_type": "execute_result"
    }
   ],
   "source": [
    "news_predictor(df_true['text'][0])"
   ]
  },
  {
   "cell_type": "code",
   "execution_count": 27,
   "id": "6863fde0",
   "metadata": {},
   "outputs": [
    {
     "data": {
      "text/plain": [
       "'Fake'"
      ]
     },
     "execution_count": 27,
     "metadata": {},
     "output_type": "execute_result"
    }
   ],
   "source": [
    "news_predictor(df_fake['text'][0])"
   ]
  },
  {
   "cell_type": "code",
   "execution_count": 28,
   "id": "02625eed",
   "metadata": {},
   "outputs": [
    {
     "data": {
      "text/plain": [
       "'Real'"
      ]
     },
     "execution_count": 28,
     "metadata": {},
     "output_type": "execute_result"
    }
   ],
   "source": [
    "news_predictor(\"\"\"Several rockets were fired at Kabul's airport Monday, witnesses and security sources said, less than 48 hours before the United States is due to complete its troop withdrawal from Afghanistan.\n",
    "The sound of rockets whooshing over the capital was heard by AFP staff before the morning rush hour began.\n",
    "\n",
    "A security official who worked in the administration toppled two weeks ago by the Taliban said the rockets had been fired from a vehicle in north Kabul.\n",
    "\n",
    "The sound of the airport's missile defence system could be heard by local residents, who also reported shrapnel falling into the street -- suggesting at least one rocket had been intercepted.\"\"\")"
   ]
  },
  {
   "cell_type": "code",
   "execution_count": null,
   "id": "519e4ddc",
   "metadata": {},
   "outputs": [],
   "source": []
  }
 ],
 "metadata": {
  "kernelspec": {
   "display_name": "Python 3",
   "language": "python",
   "name": "python3"
  },
  "language_info": {
   "codemirror_mode": {
    "name": "ipython",
    "version": 3
   },
   "file_extension": ".py",
   "mimetype": "text/x-python",
   "name": "python",
   "nbconvert_exporter": "python",
   "pygments_lexer": "ipython3",
   "version": "3.8.8"
  }
 },
 "nbformat": 4,
 "nbformat_minor": 5
}
